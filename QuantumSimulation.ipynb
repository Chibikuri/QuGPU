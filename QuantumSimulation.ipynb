{
  "nbformat": 4,
  "nbformat_minor": 0,
  "metadata": {
    "colab": {
      "name": "QuantumSimulation.ipynb",
      "version": "0.3.2",
      "provenance": [],
      "collapsed_sections": []
    },
    "kernelspec": {
      "name": "python3",
      "display_name": "Python 3"
    },
    "accelerator": "GPU"
  },
  "cells": [
    {
      "metadata": {
        "id": "AhDPRy2yljPG",
        "colab_type": "text"
      },
      "cell_type": "markdown",
      "source": [
        "# Let's simulate quantum circuit on gpu!\n",
        "***Please open this in the play ground!!! ***"
      ]
    },
    {
      "metadata": {
        "id": "amS9hNSJl_wl",
        "colab_type": "text"
      },
      "cell_type": "markdown",
      "source": [
        "### Today, we use **CuPy** module for using gpu easily from Python. CuPy is module for using CUDA which is IDE for GPU coding.[Cupy](https://cupy.chainer.org/)\n",
        "\n",
        "You can run the script with Ctrl-Shift"
      ]
    },
    {
      "metadata": {
        "id": "oArMjSxblpWL",
        "colab_type": "code",
        "outputId": "2319fa36-613d-4322-c2fc-55919bd0ad1c",
        "colab": {
          "base_uri": "https://localhost:8080/",
          "height": 34
        }
      },
      "cell_type": "code",
      "source": [
        "import tensorflow as tf\n",
        "tf.test.gpu_device_name()"
      ],
      "execution_count": 0,
      "outputs": [
        {
          "output_type": "execute_result",
          "data": {
            "text/plain": [
              "'/device:GPU:0'"
            ]
          },
          "metadata": {
            "tags": []
          },
          "execution_count": 1
        }
      ]
    },
    {
      "metadata": {
        "id": "JCBGvsim8fq_",
        "colab_type": "text"
      },
      "cell_type": "markdown",
      "source": [
        "If there are some gpu name, it works.\n",
        "Let me know if there are no gpu devices.('/device:GPU:0' is fine)"
      ]
    },
    {
      "metadata": {
        "id": "vMoe1krWDAhi",
        "colab_type": "text"
      },
      "cell_type": "markdown",
      "source": [
        "Install cupy and qiskit(this may take a little time)"
      ]
    },
    {
      "metadata": {
        "id": "vy_UFcCipyQS",
        "colab_type": "code",
        "outputId": "6bb67429-260b-4e9d-962a-2a8909d0efc9",
        "colab": {
          "base_uri": "https://localhost:8080/",
          "height": 1448
        }
      },
      "cell_type": "code",
      "source": [
        "!curl https://colab.chainer.org/install | sh -\n",
        "! pip install qiskit  # to make circuit figure"
      ],
      "execution_count": 0,
      "outputs": [
        {
          "output_type": "stream",
          "text": [
            "  % Total    % Received % Xferd  Average Speed   Time    Time     Time  Current\n",
            "                                 Dload  Upload   Total   Spent    Left  Speed\n",
            "100  1580  100  1580    0     0   3257      0 --:--:-- --:--:-- --:--:--  3257\n",
            "+ apt -y -q install cuda-libraries-dev-10-0\n",
            "Reading package lists...\n",
            "Building dependency tree...\n",
            "Reading state information...\n",
            "cuda-libraries-dev-10-0 is already the newest version (10.0.130-1).\n",
            "0 upgraded, 0 newly installed, 0 to remove and 7 not upgraded.\n",
            "+ pip install -q cupy-cuda100  chainer \n",
            "+ set +ex\n",
            "Installation succeeded!\n",
            "Collecting qiskit\n",
            "  Downloading https://files.pythonhosted.org/packages/7a/4a/bc00cc835794bb5247146d895586284759fe8e726648cfbb2f977e484bec/qiskit-0.7.2.tar.gz\n",
            "Collecting qiskit-terra<0.8,>=0.7 (from qiskit)\n",
            "\u001b[?25l  Downloading https://files.pythonhosted.org/packages/af/61/b54f52ada993927c93adf8fea565951456f4ea691d6b0adca9ef52a04060/qiskit_terra-0.7.0-cp36-cp36m-manylinux1_x86_64.whl (7.3MB)\n",
            "\u001b[K    100% |████████████████████████████████| 7.3MB 6.8MB/s \n",
            "\u001b[?25hCollecting qiskit-aer<0.2,>=0.1 (from qiskit)\n",
            "\u001b[?25l  Downloading https://files.pythonhosted.org/packages/19/51/c93d33f5154305d177754507f05d113e13695a93500db38e1224633b9035/qiskit_aer-0.1.1-cp36-cp36m-manylinux1_x86_64.whl (18.5MB)\n",
            "\u001b[K    100% |████████████████████████████████| 18.5MB 1.7MB/s \n",
            "\u001b[?25hCollecting marshmallow<3,>=2.16.3 (from qiskit-terra<0.8,>=0.7->qiskit)\n",
            "\u001b[?25l  Downloading https://files.pythonhosted.org/packages/9a/3c/4cc463c53136dc503f9ee234c4a6592e1c7411cb362f844e80df70361f29/marshmallow-2.18.0-py2.py3-none-any.whl (50kB)\n",
            "\u001b[K    100% |████████████████████████████████| 51kB 19.3MB/s \n",
            "\u001b[?25hCollecting marshmallow-polyfield<4,>=3.2 (from qiskit-terra<0.8,>=0.7->qiskit)\n",
            "  Downloading https://files.pythonhosted.org/packages/fa/ba/6406b8cce3e42b2838d234310c3605627083bbb8f71dcc312c616480fe92/marshmallow_polyfield-3.2-py2.py3-none-any.whl\n",
            "Requirement already satisfied: scipy!=0.19.1,>=0.19 in /usr/local/lib/python3.6/dist-packages (from qiskit-terra<0.8,>=0.7->qiskit) (1.1.0)\n",
            "Collecting sympy>=1.3 (from qiskit-terra<0.8,>=0.7->qiskit)\n",
            "\u001b[?25l  Downloading https://files.pythonhosted.org/packages/dd/f6/ed485ff22efdd7b371d0dbbf6d77ad61c3b3b7e0815a83c89cbb38ce35de/sympy-1.3.tar.gz (5.9MB)\n",
            "\u001b[K    100% |████████████████████████████████| 5.9MB 8.6MB/s \n",
            "\u001b[?25hCollecting pillow>=4.2.1 (from qiskit-terra<0.8,>=0.7->qiskit)\n",
            "\u001b[?25l  Downloading https://files.pythonhosted.org/packages/85/5e/e91792f198bbc5a0d7d3055ad552bc4062942d27eaf75c3e2783cf64eae5/Pillow-5.4.1-cp36-cp36m-manylinux1_x86_64.whl (2.0MB)\n",
            "\u001b[K    100% |████████████████████████████████| 2.0MB 14.9MB/s \n",
            "\u001b[?25hRequirement already satisfied: psutil>=5 in /usr/local/lib/python3.6/dist-packages (from qiskit-terra<0.8,>=0.7->qiskit) (5.4.8)\n",
            "Requirement already satisfied: networkx>=2.2 in /usr/local/lib/python3.6/dist-packages (from qiskit-terra<0.8,>=0.7->qiskit) (2.2)\n",
            "Collecting ply>=3.10 (from qiskit-terra<0.8,>=0.7->qiskit)\n",
            "\u001b[?25l  Downloading https://files.pythonhosted.org/packages/a3/58/35da89ee790598a0700ea49b2a66594140f44dec458c07e8e3d4979137fc/ply-3.11-py2.py3-none-any.whl (49kB)\n",
            "\u001b[K    100% |████████████████████████████████| 51kB 22.6MB/s \n",
            "\u001b[?25hCollecting requests-ntlm>=1.1.0 (from qiskit-terra<0.8,>=0.7->qiskit)\n",
            "  Downloading https://files.pythonhosted.org/packages/03/4b/8b9a1afde8072c4d5710d9fa91433d504325821b038e00237dc8d6d833dc/requests_ntlm-1.1.0-py2.py3-none-any.whl\n",
            "Requirement already satisfied: jsonschema<2.7,>=2.6 in /usr/local/lib/python3.6/dist-packages (from qiskit-terra<0.8,>=0.7->qiskit) (2.6.0)\n",
            "Requirement already satisfied: numpy>=1.13 in /usr/local/lib/python3.6/dist-packages (from qiskit-terra<0.8,>=0.7->qiskit) (1.14.6)\n",
            "Collecting requests>=2.19 (from qiskit-terra<0.8,>=0.7->qiskit)\n",
            "\u001b[?25l  Downloading https://files.pythonhosted.org/packages/7d/e3/20f3d364d6c8e5d2353c72a67778eb189176f08e873c9900e10c0287b84b/requests-2.21.0-py2.py3-none-any.whl (57kB)\n",
            "\u001b[K    100% |████████████████████████████████| 61kB 21.3MB/s \n",
            "\u001b[?25hRequirement already satisfied: mpmath>=0.19 in /usr/local/lib/python3.6/dist-packages (from sympy>=1.3->qiskit-terra<0.8,>=0.7->qiskit) (1.1.0)\n",
            "Requirement already satisfied: decorator>=4.3.0 in /usr/local/lib/python3.6/dist-packages (from networkx>=2.2->qiskit-terra<0.8,>=0.7->qiskit) (4.3.2)\n",
            "Collecting ntlm-auth>=1.0.2 (from requests-ntlm>=1.1.0->qiskit-terra<0.8,>=0.7->qiskit)\n",
            "  Downloading https://files.pythonhosted.org/packages/8e/5b/4047779fb456b0de503c4acb7b166becf2567efb772abb53998440791d3c/ntlm_auth-1.2.0-py2.py3-none-any.whl\n",
            "Collecting cryptography>=1.3 (from requests-ntlm>=1.1.0->qiskit-terra<0.8,>=0.7->qiskit)\n",
            "\u001b[?25l  Downloading https://files.pythonhosted.org/packages/98/71/e632e222f34632e0527dd41799f7847305e701f38f512d81bdf96009bca4/cryptography-2.5-cp34-abi3-manylinux1_x86_64.whl (2.4MB)\n",
            "\u001b[K    100% |████████████████████████████████| 2.4MB 14.5MB/s \n",
            "\u001b[?25hRequirement already satisfied: urllib3<1.25,>=1.21.1 in /usr/local/lib/python3.6/dist-packages (from requests>=2.19->qiskit-terra<0.8,>=0.7->qiskit) (1.22)\n",
            "Requirement already satisfied: chardet<3.1.0,>=3.0.2 in /usr/local/lib/python3.6/dist-packages (from requests>=2.19->qiskit-terra<0.8,>=0.7->qiskit) (3.0.4)\n",
            "Requirement already satisfied: idna<2.9,>=2.5 in /usr/local/lib/python3.6/dist-packages (from requests>=2.19->qiskit-terra<0.8,>=0.7->qiskit) (2.6)\n",
            "Requirement already satisfied: certifi>=2017.4.17 in /usr/local/lib/python3.6/dist-packages (from requests>=2.19->qiskit-terra<0.8,>=0.7->qiskit) (2018.11.29)\n",
            "Requirement already satisfied: six>=1.4.1 in /usr/local/lib/python3.6/dist-packages (from cryptography>=1.3->requests-ntlm>=1.1.0->qiskit-terra<0.8,>=0.7->qiskit) (1.11.0)\n",
            "Collecting asn1crypto>=0.21.0 (from cryptography>=1.3->requests-ntlm>=1.1.0->qiskit-terra<0.8,>=0.7->qiskit)\n",
            "\u001b[?25l  Downloading https://files.pythonhosted.org/packages/ea/cd/35485615f45f30a510576f1a56d1e0a7ad7bd8ab5ed7cdc600ef7cd06222/asn1crypto-0.24.0-py2.py3-none-any.whl (101kB)\n",
            "\u001b[K    100% |████████████████████████████████| 102kB 23.0MB/s \n",
            "\u001b[?25hRequirement already satisfied: cffi!=1.11.3,>=1.8 in /usr/local/lib/python3.6/dist-packages (from cryptography>=1.3->requests-ntlm>=1.1.0->qiskit-terra<0.8,>=0.7->qiskit) (1.11.5)\n",
            "Requirement already satisfied: pycparser in /usr/local/lib/python3.6/dist-packages (from cffi!=1.11.3,>=1.8->cryptography>=1.3->requests-ntlm>=1.1.0->qiskit-terra<0.8,>=0.7->qiskit) (2.19)\n",
            "Building wheels for collected packages: qiskit, sympy\n",
            "  Building wheel for qiskit (setup.py) ... \u001b[?25ldone\n",
            "\u001b[?25h  Running setup.py clean for qiskit\n",
            "  Building wheel for sympy (setup.py) ... \u001b[?25ldone\n",
            "\u001b[?25h  Stored in directory: /root/.cache/pip/wheels/6c/59/86/478e3c0f298368c119095cc5985dedac57c0e35a85c737f823\n",
            "Successfully built sympy\n",
            "Failed to build qiskit\n",
            "\u001b[31mspacy 2.0.18 has requirement numpy>=1.15.0, but you'll have numpy 1.14.6 which is incompatible.\u001b[0m\n",
            "\u001b[31mgoogle-colab 0.0.1a1 has requirement requests~=2.18.0, but you'll have requests 2.21.0 which is incompatible.\u001b[0m\n",
            "\u001b[31mcufflinks 0.14.6 has requirement plotly>=3.0.0, but you'll have plotly 1.12.12 which is incompatible.\u001b[0m\n",
            "Installing collected packages: marshmallow, marshmallow-polyfield, sympy, pillow, ply, ntlm-auth, requests, asn1crypto, cryptography, requests-ntlm, qiskit-terra, qiskit-aer, qiskit\n",
            "  Found existing installation: sympy 1.1.1\n",
            "    Uninstalling sympy-1.1.1:\n",
            "      Successfully uninstalled sympy-1.1.1\n",
            "  Found existing installation: Pillow 4.0.0\n",
            "    Uninstalling Pillow-4.0.0:\n",
            "      Successfully uninstalled Pillow-4.0.0\n",
            "  Found existing installation: requests 2.18.4\n",
            "    Uninstalling requests-2.18.4:\n",
            "      Successfully uninstalled requests-2.18.4\n",
            "  Running setup.py install for qiskit ... \u001b[?25ldone\n",
            "\u001b[?25hSuccessfully installed asn1crypto-0.24.0 cryptography-2.5 marshmallow-2.18.0 marshmallow-polyfield-3.2 ntlm-auth-1.2.0 pillow-5.4.1 ply-3.11 qiskit-0.7.2 qiskit-aer-0.1.1 qiskit-terra-0.7.0 requests-2.21.0 requests-ntlm-1.1.0 sympy-1.3\n"
          ],
          "name": "stdout"
        }
      ]
    },
    {
      "metadata": {
        "id": "curf9ZdEB4O-",
        "colab_type": "code",
        "outputId": "25d01c61-fde9-49b5-9803-21e8c34b5f2f",
        "colab": {
          "base_uri": "https://localhost:8080/",
          "height": 71
        }
      },
      "cell_type": "code",
      "source": [
        "import cupy as cp \n",
        "import numpy as np\n",
        "from pprint import pprint\n",
        "from scipy.linalg import expm  # Thank you Shingy!\n",
        "from qiskit import QuantumRegister, ClassicalRegister, QuantumCircuit  # To visualize circuit"
      ],
      "execution_count": 0,
      "outputs": [
        {
          "output_type": "stream",
          "text": [
            "/usr/local/lib/python3.6/dist-packages/marshmallow/schema.py:364: ChangedInMarshmallow3Warning: strict=False is not recommended. In marshmallow 3.0, schemas will always be strict. See https://marshmallow.readthedocs.io/en/latest/upgrading.html#schemas-are-always-strict\n",
            "  ChangedInMarshmallow3Warning\n"
          ],
          "name": "stderr"
        }
      ]
    },
    {
      "metadata": {
        "id": "m_s76jzEpY7l",
        "colab_type": "text"
      },
      "cell_type": "markdown",
      "source": [
        "We can use GPU only changing **np** to **cp**!!  \n",
        "## Compare CPU with GPU."
      ]
    },
    {
      "metadata": {
        "id": "7XY8aXAsg-9v",
        "colab_type": "text"
      },
      "cell_type": "markdown",
      "source": [
        "I prepared basic operations for one and two qubit gate.\n",
        "###CPU"
      ]
    },
    {
      "metadata": {
        "id": "o3HRVQfUCILK",
        "colab_type": "code",
        "colab": {}
      },
      "cell_type": "code",
      "source": [
        "# These are quantum gates on cpu. (j is imaginary unit)\n",
        "id_cpu = np.array(((1, 0), (0, 1)))\n",
        "x_cpu = np.array(((0, 1), (1, 0)))\n",
        "y_cpu = np.array(((0, -1j), (1j, 0)))\n",
        "z_cpu = np.array(((1, 0), (0, -1)))\n",
        "h_cpu = 1/np.sqrt(2)*np.array(((1, 1), (1, -1)))\n",
        "cnot_cpu = np.array(((1, 0, 0, 0), (0, 1, 0, 0), (0, 0, 0, 1), (0, 0, 1, 0)))\n",
        "\n",
        "def u1_cpu(theta):\n",
        "  return np.array(((1, 0), (0, np.exp(-1j*theta))))\n",
        "\n",
        "def cu1_cpu(theta, control, target, qubits=10):\n",
        "  if control == target:\n",
        "    raise Exception(\"control and target must be different number.\")\n",
        "  if control < 0 or target < 0:\n",
        "    raise Exception(\"control and target must be positive.\")\n",
        "  ui1 = u1_cpu(theta)\n",
        "  \n",
        "  I = np.identity(2**qubits)\n",
        "  \n",
        "  # Making hamiltonian of cu1\n",
        "  u1_c = [id_cpu for _ in range(qubits)]\n",
        "  u1_c[control] = ui1\n",
        "  u1_control = u1_c[0]\n",
        "  for i in u1_c[1:]:\n",
        "    u1_control = np.kron(u1_control, i) \n",
        "  \n",
        "  u1_t = [id_cpu for _ in range(qubits)]\n",
        "  u1_t[target] = ui1\n",
        "  u1_target = u1_t[0]\n",
        "  for i in u1_t[1:]:\n",
        "    u1_target = np.kron(u1_target, i)\n",
        "    \n",
        "  # Hamiltonian of cu1 gate.\n",
        "  H_cu1 = 1/(2**(qubits-1))*(I - u1_control - u1_target + np.dot(u1_control, u1_target))\n",
        "  \n",
        "  diag = np.exp(np.diag(H_cu1))\n",
        "#   diag = expm(H_cu1) # in this system, matrix is diagonal. this function was not needed...\n",
        "  \n",
        "  return np.diag(diag)\n",
        "\n",
        "def hcpu(target, qubits=10):\n",
        "  if target < 0:\n",
        "    raise Exception(\"target qubit must be positive\")\n",
        "    \n",
        "  h1 = [id_cpu for _ in range(qubits)]\n",
        "  h1[target] = h_cpu\n",
        "  \n",
        "  h_t = h1[0]\n",
        "  for i in h1[1:]:\n",
        "    h_t = np.kron(h_t, i)\n",
        "    \n",
        "  return h_t"
      ],
      "execution_count": 0,
      "outputs": []
    },
    {
      "metadata": {
        "id": "H49YFvRrhDcn",
        "colab_type": "text"
      },
      "cell_type": "markdown",
      "source": [
        "###GPU\n"
      ]
    },
    {
      "metadata": {
        "id": "G_9UUtmQPCHO",
        "colab_type": "code",
        "colab": {}
      },
      "cell_type": "code",
      "source": [
        "# These are quantum gates on gpu.\n",
        "id_gpu = cp.array(((1, 0), (0, 1)))\n",
        "x_gpu = cp.array(((0, 1), (1, 0)))\n",
        "y_gpu = cp.array(((0, -1j), (1j, 0)))\n",
        "z_gpu = cp.array(((1, 0), (0, -1)))\n",
        "h_gpu = 1/cp.sqrt(2)*cp.array(((1, 1), (1, -1)))\n",
        "cnot_gpu = cp.array(((1, 0, 0, 0), (0, 1, 0, 0), (0, 0, 0, 1), (0, 0, 1, 0)))\n",
        "\n",
        "def u1_gpu(theta):\n",
        "  # if theta = pi, then this gate is equal to controlled-Z gate.\n",
        "  return cp.array(((1, 0), (0, np.exp(-1j*theta))))\n",
        "\n",
        "def cu1_gpu(theta, control, target, qubits=10):\n",
        "  if control == target:\n",
        "    raise Exception(\"control and target must be different number.\")\n",
        "  if control < 0 or target < 0:\n",
        "    raise Exception(\"control and target must be positive.\")\n",
        "  ui1 = u1_gpu(theta)\n",
        "  \n",
        "  I = cp.identity(2**qubits)\n",
        " \n",
        "  # Making hamiltonian of cu1\n",
        "  u1_c = [id_gpu for _ in range(qubits)]\n",
        "  u1_c[control] = ui1\n",
        "  u1_control = u1_c[0]\n",
        "  for i in u1_c[1:]:\n",
        "    u1_control = cp.kron(u1_control, i) \n",
        "  \n",
        "  u1_t = [id_gpu for _ in range(qubits)]\n",
        "  u1_t[target] = ui1\n",
        "  u1_target = u1_t[0]\n",
        "  for i in u1_t[1:]:\n",
        "    u1_target = cp.kron(u1_target, i)\n",
        "    \n",
        "  # Hamiltonian of cu1 gate.\n",
        "  H_cu1 = 1/(2**(qubits-1))*(I - u1_control - u1_target + cp.dot(u1_control, u1_target))\n",
        "  \n",
        "  diag = cp.exp(cp.diag(H_cu1))  \n",
        "#   diag = expm(H_cu1)\n",
        "  \n",
        "  return cp.diag(diag)\n",
        "\n",
        "def hgpu(target, qubits=10):\n",
        "  if target < 0:\n",
        "    raise Exception(\"target qubit must be positive\")\n",
        "    \n",
        "  h1 = [id_gpu for _ in range(qubits)]\n",
        "  h1[target] = h_gpu\n",
        "  \n",
        "  h_t = h1[0]\n",
        "  for i in h1[1:]:\n",
        "    h_t = cp.kron(h_t, i)\n",
        "    \n",
        "  return h_t"
      ],
      "execution_count": 0,
      "outputs": []
    },
    {
      "metadata": {
        "id": "96C7rWIsCGUR",
        "colab_type": "code",
        "colab": {}
      },
      "cell_type": "code",
      "source": [
        "# To check execution time!\n",
        "import time"
      ],
      "execution_count": 0,
      "outputs": []
    },
    {
      "metadata": {
        "id": "DwVWMyudgUHO",
        "colab_type": "text"
      },
      "cell_type": "markdown",
      "source": [
        "## 2 Qubits\n"
      ]
    },
    {
      "metadata": {
        "id": "_LY4RA9NBF4Y",
        "colab_type": "text"
      },
      "cell_type": "markdown",
      "source": [
        "###Qiskit (just making circuit figure.)\n",
        "**Making quantum entanglement.  **\n",
        "\n"
      ]
    },
    {
      "metadata": {
        "id": "qdRQnK1tBqv8",
        "colab_type": "code",
        "outputId": "4223f6a0-559e-4355-d386-bb90555d9831",
        "colab": {
          "base_uri": "https://localhost:8080/",
          "height": 181
        }
      },
      "cell_type": "code",
      "source": [
        "q = QuantumRegister(2)\n",
        "c = ClassicalRegister(1)\n",
        "qc = QuantumCircuit(q, c)\n",
        "\n",
        "qc.h(q[0])\n",
        "qc.cx(q[0], q[1])\n",
        "qc.draw(output=\"mpl\")"
      ],
      "execution_count": 0,
      "outputs": [
        {
          "output_type": "execute_result",
          "data": {
            "image/png": "[encoded data removed]",
            "text/plain": [
              "<Figure size 301x198.66 with 1 Axes>"
            ]
          },
          "metadata": {
            "tags": []
          },
          "execution_count": 7
        }
      ]
    },
    {
      "metadata": {
        "id": "hFOk98PhBD8N",
        "colab_type": "text"
      },
      "cell_type": "markdown",
      "source": [
        "###CPU\n",
        "\n",
        "***I excluded  the time making multi qubits matrix from 1 qubit.***\n"
      ]
    },
    {
      "metadata": {
        "id": "9pZw4o4MfyiW",
        "colab_type": "code",
        "outputId": "8a0d19e5-30c3-4fba-8ce3-7b94322875dd",
        "colab": {
          "base_uri": "https://localhost:8080/",
          "height": 51
        }
      },
      "cell_type": "code",
      "source": [
        "H = np.kron(h_cpu, id_cpu)  # Tensor product of h gate and id gate (h gate for first qubit) \n",
        "\n",
        "start = time.time()  # timer start\n",
        "\n",
        "initial_state = np.array(((1, 0, 0, 0)))  # Initial state is |00>\n",
        "  \n",
        "output = np.dot(np.dot(initial_state, H), cnot_cpu)  #  Making quantum entanglement.\n",
        "\n",
        "exectime = time.time() - start  # timer stop\n",
        "\n",
        "pprint(output)\n",
        "print(\"time :\", exectime)"
      ],
      "execution_count": 0,
      "outputs": [
        {
          "output_type": "stream",
          "text": [
            "array([0.70710678, 0.        , 0.        , 0.70710678])\n",
            "time : 0.00021886825561523438\n"
          ],
          "name": "stdout"
        }
      ]
    },
    {
      "metadata": {
        "id": "sxkPS22wgcvb",
        "colab_type": "text"
      },
      "cell_type": "markdown",
      "source": [
        "###GPU"
      ]
    },
    {
      "metadata": {
        "id": "Aq9K-Z_-Gs5h",
        "colab_type": "code",
        "outputId": "10ec0171-9034-44df-ed2f-ffd763061f13",
        "colab": {
          "base_uri": "https://localhost:8080/",
          "height": 51
        }
      },
      "cell_type": "code",
      "source": [
        "H = cp.kron(h_gpu, id_gpu)  # Tensor product of h gate and id gate (h gate for first qubit) \n",
        "\n",
        "start = time.time()  # timer start\n",
        "\n",
        "initial_state = cp.array(((1, 0, 0, 0)))  # Initial state is |00>\n",
        "  \n",
        "output = cp.dot(cp.dot(initial_state, H), cnot_gpu)  #  Making quantum entanglement.\n",
        "\n",
        "exectime = time.time() - start  # timer stop\n",
        "\n",
        "pprint(output)\n",
        "print(\"time :\", exectime)"
      ],
      "execution_count": 0,
      "outputs": [
        {
          "output_type": "stream",
          "text": [
            "array([0.70710678, 0.        , 0.        , 0.70710678])\n",
            "time : 0.0005366802215576172\n"
          ],
          "name": "stdout"
        }
      ]
    },
    {
      "metadata": {
        "id": "qaaVoN5GnXwi",
        "colab_type": "text"
      },
      "cell_type": "markdown",
      "source": [
        "Execution time of GPU simulator is longer than CPU, right?  \n",
        "How about this?\n"
      ]
    },
    {
      "metadata": {
        "id": "4tGiB4gpnp4N",
        "colab_type": "text"
      },
      "cell_type": "markdown",
      "source": [
        "## 10 Qubit\n",
        "\n"
      ]
    },
    {
      "metadata": {
        "id": "Cv6DM6BvB-um",
        "colab_type": "text"
      },
      "cell_type": "markdown",
      "source": [
        "Making **Quantum Fourier Transform.**\n"
      ]
    },
    {
      "metadata": {
        "id": "j_U2wVTpCEKo",
        "colab_type": "text"
      },
      "cell_type": "markdown",
      "source": [
        "### Qiskit (just making circuit figure)\n"
      ]
    },
    {
      "metadata": {
        "id": "N5-EJ9ZDCI7P",
        "colab_type": "code",
        "outputId": "9f41ba8c-3f97-4989-f53e-e64e083fe440",
        "colab": {
          "base_uri": "https://localhost:8080/",
          "height": 948
        }
      },
      "cell_type": "code",
      "source": [
        "q = QuantumRegister(10)\n",
        "c = ClassicalRegister(1)\n",
        "qc = QuantumCircuit(q, c)\n",
        "\n",
        "for i in range(10):\n",
        "  qc.h(q[i])\n",
        "  for j in range(i+1, 10):\n",
        "    qc.cu1((2*np.pi/(2**(j-i+1))), q[i], q[j])\n",
        "qc.draw(output=\"mpl\", scale=0.4)"
      ],
      "execution_count": 0,
      "outputs": [
        {
          "output_type": "execute_result",
          "data": {
            "image/png": "[encoded data removed]",
            "text/plain": [
              "<Figure size 791.2x1214.32 with 1 Axes>"
            ]
          },
          "metadata": {
            "tags": []
          },
          "execution_count": 16
        }
      ]
    },
    {
      "metadata": {
        "id": "Er93_7z5CCRF",
        "colab_type": "text"
      },
      "cell_type": "markdown",
      "source": [
        "###CPU"
      ]
    },
    {
      "metadata": {
        "id": "844m0oJrFsJO",
        "colab_type": "text"
      },
      "cell_type": "markdown",
      "source": [
        "This part takes a little time. please wait..."
      ]
    },
    {
      "metadata": {
        "id": "MK4E_1tVnpKy",
        "colab_type": "code",
        "outputId": "a808a9e1-e9df-43f6-d858-8782f2424aa1",
        "colab": {
          "base_uri": "https://localhost:8080/",
          "height": 68
        }
      },
      "cell_type": "code",
      "source": [
        "  initial_state = np.zeros(2**10)\n",
        "  initial_state[0] = 1  # making initial state |00...00>\n",
        "  \n",
        "  start = time.time()  # start timer\n",
        "  \n",
        "  state = initial_state\n",
        "  for c in range(10):\n",
        "    state = np.dot(state, hcpu(c))\n",
        "    for t in range(c+1, 10):\n",
        "      state = np.dot(state, cu1_cpu(2*np.pi/(2**(t-c+1)), c, t))\n",
        "      \n",
        "  exectime = time.time() - start  # stop timer\n",
        "  \n",
        "  print(exectime)\n",
        "  print(state)"
      ],
      "execution_count": 0,
      "outputs": [
        {
          "output_type": "stream",
          "text": [
            "22.671952486038208\n",
            "[0.03125+0.j 0.03125+0.j 0.03125+0.j ... 0.03125+0.j 0.03125+0.j\n",
            " 0.03125+0.j]\n"
          ],
          "name": "stdout"
        }
      ]
    },
    {
      "metadata": {
        "id": "sMGGH56BvfGt",
        "colab_type": "text"
      },
      "cell_type": "markdown",
      "source": [
        "###GPU"
      ]
    },
    {
      "metadata": {
        "id": "_LVoZ7P7jNeP",
        "colab_type": "text"
      },
      "cell_type": "markdown",
      "source": [
        "In the first execution, it takes a little time, but if you execute second time, it will be faster."
      ]
    },
    {
      "metadata": {
        "id": "uLEV81FFvos9",
        "colab_type": "code",
        "outputId": "e2e634be-9500-4b99-bfb3-64e77c1f08cd",
        "colab": {
          "base_uri": "https://localhost:8080/",
          "height": 68
        }
      },
      "cell_type": "code",
      "source": [
        "  initial_state = cp.zeros(2**10)\n",
        "  initial_state[0] = 1  # making initial state |00...00>\n",
        "  \n",
        "  start = time.time()  # start timer\n",
        "  \n",
        "  state = initial_state\n",
        "  for c in range(10):\n",
        "    state = cp.dot(state, hgpu(c))\n",
        "    for t in range(c+1, 10):\n",
        "      state = cp.dot(state, cu1_gpu(2*np.pi/(2**(t-c+1)), c, t))\n",
        "      \n",
        "  exectime = time.time() - start  # stop timer\n",
        "  print(exectime)\n",
        "  print(state)"
      ],
      "execution_count": 0,
      "outputs": [
        {
          "output_type": "stream",
          "text": [
            "1.1465439796447754\n",
            "[0.03125+0.j 0.03125+0.j 0.03125+0.j ... 0.03125+0.j 0.03125+0.j\n",
            " 0.03125+0.j]\n"
          ],
          "name": "stdout"
        }
      ]
    },
    {
      "metadata": {
        "id": "pm25H9z-vgtz",
        "colab_type": "text"
      },
      "cell_type": "markdown",
      "source": [
        "##Appendix"
      ]
    },
    {
      "metadata": {
        "id": "INPMsEhSLTeB",
        "colab_type": "text"
      },
      "cell_type": "markdown",
      "source": [
        "Where is the threashold of cpu and gpu simulation?"
      ]
    },
    {
      "metadata": {
        "id": "QJ8VkKmXLSy_",
        "colab_type": "code",
        "colab": {}
      },
      "cell_type": "code",
      "source": [
        "qubit = [2, 3, 4, 5, 6, 7, 8, 9, 10]\n",
        "exec_time_cpu = []\n",
        "exec_time_gpu = []"
      ],
      "execution_count": 0,
      "outputs": []
    },
    {
      "metadata": {
        "id": "OzcknojPMLzt",
        "colab_type": "text"
      },
      "cell_type": "markdown",
      "source": [
        "**CPU**"
      ]
    },
    {
      "metadata": {
        "id": "ry7v_zIBMKI5",
        "colab_type": "code",
        "outputId": "2422a374-3c1d-4944-8215-c3f04876dad7",
        "colab": {
          "base_uri": "https://localhost:8080/",
          "height": 187
        }
      },
      "cell_type": "code",
      "source": [
        "for q in qubit:    \n",
        "    initial_state = np.zeros(2**q)\n",
        "    initial_state[0] = 1\n",
        "    start = time.time()\n",
        "    state = initial_state\n",
        "    for c in range(q):\n",
        "      state = np.dot(state, hcpu(c, qubits=q))\n",
        "      for t in range(c+1, q):\n",
        "        state = np.dot(state, cu1_cpu(1/(2**(t-c+1)), c, t, qubits=q))\n",
        "    exectime = time.time() - start\n",
        "    exec_time_cpu.append(exectime)\n",
        "    print(exectime)\n",
        "#     print(state)\n",
        "print(\"done!\")\n",
        "  "
      ],
      "execution_count": 0,
      "outputs": [
        {
          "output_type": "stream",
          "text": [
            "0.008078813552856445\n",
            "0.0012195110321044922\n",
            "0.0021817684173583984\n",
            "0.004849433898925781\n",
            "0.013480663299560547\n",
            "0.06139421463012695\n",
            "0.3465712070465088\n",
            "2.584207773208618\n",
            "23.719120979309082\n",
            "done!\n"
          ],
          "name": "stdout"
        }
      ]
    },
    {
      "metadata": {
        "id": "qOAFe75hMNpa",
        "colab_type": "text"
      },
      "cell_type": "markdown",
      "source": [
        "**GPU**"
      ]
    },
    {
      "metadata": {
        "id": "u8_pjpjIMSlu",
        "colab_type": "code",
        "outputId": "dc6310ab-bbe0-4aeb-a212-cb3d25fa7776",
        "colab": {
          "base_uri": "https://localhost:8080/",
          "height": 4046
        }
      },
      "cell_type": "code",
      "source": [
        "  for q in qubit:\n",
        "    initial_state = cp.zeros(2**q)\n",
        "    initial_state[0] = 1\n",
        "    start = time.time()\n",
        "    state = initial_state\n",
        "    for c in range(q):\n",
        "      state = cp.dot(state, hgpu(c, qubits=q))\n",
        "      for t in range(c+1, q):\n",
        "        state = cp.dot(state, cu1_gpu(1/(2**(t-c+1)), c, t, qubits=q))\n",
        "    exectime = time.time() - start\n",
        "    exec_time_gpu.append(exectime)\n",
        "    print(exectime)\n",
        "#     print(state)\n",
        "print(\"done!\")\n"
      ],
      "execution_count": 0,
      "outputs": [
        {
          "output_type": "stream",
          "text": [
            "0.00655674934387207\n",
            "[0.5+0.j 0.5+0.j 0.5+0.j 0.5+0.j]\n",
            "0.008911371231079102\n",
            "[0.35355339+0.j 0.35355339+0.j 0.35355339+0.j 0.35355339+0.j\n",
            " 0.35355339+0.j 0.35355339+0.j 0.35355339+0.j 0.35355339+0.j]\n",
            "0.024707555770874023\n",
            "[0.25+0.j 0.25+0.j 0.25+0.j 0.25+0.j 0.25+0.j 0.25+0.j 0.25+0.j 0.25+0.j\n",
            " 0.25+0.j 0.25+0.j 0.25+0.j 0.25+0.j 0.25+0.j 0.25+0.j 0.25+0.j 0.25+0.j]\n",
            "0.05341458320617676\n",
            "[0.1767767+0.j 0.1767767+0.j 0.1767767+0.j 0.1767767+0.j 0.1767767+0.j\n",
            " 0.1767767+0.j 0.1767767+0.j 0.1767767+0.j 0.1767767+0.j 0.1767767+0.j\n",
            " 0.1767767+0.j 0.1767767+0.j 0.1767767+0.j 0.1767767+0.j 0.1767767+0.j\n",
            " 0.1767767+0.j 0.1767767+0.j 0.1767767+0.j 0.1767767+0.j 0.1767767+0.j\n",
            " 0.1767767+0.j 0.1767767+0.j 0.1767767+0.j 0.1767767+0.j 0.1767767+0.j\n",
            " 0.1767767+0.j 0.1767767+0.j 0.1767767+0.j 0.1767767+0.j 0.1767767+0.j\n",
            " 0.1767767+0.j 0.1767767+0.j]\n",
            "0.0969536304473877\n",
            "[0.125+0.j 0.125+0.j 0.125+0.j 0.125+0.j 0.125+0.j 0.125+0.j 0.125+0.j\n",
            " 0.125+0.j 0.125+0.j 0.125+0.j 0.125+0.j 0.125+0.j 0.125+0.j 0.125+0.j\n",
            " 0.125+0.j 0.125+0.j 0.125+0.j 0.125+0.j 0.125+0.j 0.125+0.j 0.125+0.j\n",
            " 0.125+0.j 0.125+0.j 0.125+0.j 0.125+0.j 0.125+0.j 0.125+0.j 0.125+0.j\n",
            " 0.125+0.j 0.125+0.j 0.125+0.j 0.125+0.j 0.125+0.j 0.125+0.j 0.125+0.j\n",
            " 0.125+0.j 0.125+0.j 0.125+0.j 0.125+0.j 0.125+0.j 0.125+0.j 0.125+0.j\n",
            " 0.125+0.j 0.125+0.j 0.125+0.j 0.125+0.j 0.125+0.j 0.125+0.j 0.125+0.j\n",
            " 0.125+0.j 0.125+0.j 0.125+0.j 0.125+0.j 0.125+0.j 0.125+0.j 0.125+0.j\n",
            " 0.125+0.j 0.125+0.j 0.125+0.j 0.125+0.j 0.125+0.j 0.125+0.j 0.125+0.j\n",
            " 0.125+0.j]\n",
            "0.17279601097106934\n",
            "[0.08838835+0.j 0.08838835+0.j 0.08838835+0.j 0.08838835+0.j\n",
            " 0.08838835+0.j 0.08838835+0.j 0.08838835+0.j 0.08838835+0.j\n",
            " 0.08838835+0.j 0.08838835+0.j 0.08838835+0.j 0.08838835+0.j\n",
            " 0.08838835+0.j 0.08838835+0.j 0.08838835+0.j 0.08838835+0.j\n",
            " 0.08838835+0.j 0.08838835+0.j 0.08838835+0.j 0.08838835+0.j\n",
            " 0.08838835+0.j 0.08838835+0.j 0.08838835+0.j 0.08838835+0.j\n",
            " 0.08838835+0.j 0.08838835+0.j 0.08838835+0.j 0.08838835+0.j\n",
            " 0.08838835+0.j 0.08838835+0.j 0.08838835+0.j 0.08838835+0.j\n",
            " 0.08838835+0.j 0.08838835+0.j 0.08838835+0.j 0.08838835+0.j\n",
            " 0.08838835+0.j 0.08838835+0.j 0.08838835+0.j 0.08838835+0.j\n",
            " 0.08838835+0.j 0.08838835+0.j 0.08838835+0.j 0.08838835+0.j\n",
            " 0.08838835+0.j 0.08838835+0.j 0.08838835+0.j 0.08838835+0.j\n",
            " 0.08838835+0.j 0.08838835+0.j 0.08838835+0.j 0.08838835+0.j\n",
            " 0.08838835+0.j 0.08838835+0.j 0.08838835+0.j 0.08838835+0.j\n",
            " 0.08838835+0.j 0.08838835+0.j 0.08838835+0.j 0.08838835+0.j\n",
            " 0.08838835+0.j 0.08838835+0.j 0.08838835+0.j 0.08838835+0.j\n",
            " 0.08838835+0.j 0.08838835+0.j 0.08838835+0.j 0.08838835+0.j\n",
            " 0.08838835+0.j 0.08838835+0.j 0.08838835+0.j 0.08838835+0.j\n",
            " 0.08838835+0.j 0.08838835+0.j 0.08838835+0.j 0.08838835+0.j\n",
            " 0.08838835+0.j 0.08838835+0.j 0.08838835+0.j 0.08838835+0.j\n",
            " 0.08838835+0.j 0.08838835+0.j 0.08838835+0.j 0.08838835+0.j\n",
            " 0.08838835+0.j 0.08838835+0.j 0.08838835+0.j 0.08838835+0.j\n",
            " 0.08838835+0.j 0.08838835+0.j 0.08838835+0.j 0.08838835+0.j\n",
            " 0.08838835+0.j 0.08838835+0.j 0.08838835+0.j 0.08838835+0.j\n",
            " 0.08838835+0.j 0.08838835+0.j 0.08838835+0.j 0.08838835+0.j\n",
            " 0.08838835+0.j 0.08838835+0.j 0.08838835+0.j 0.08838835+0.j\n",
            " 0.08838835+0.j 0.08838835+0.j 0.08838835+0.j 0.08838835+0.j\n",
            " 0.08838835+0.j 0.08838835+0.j 0.08838835+0.j 0.08838835+0.j\n",
            " 0.08838835+0.j 0.08838835+0.j 0.08838835+0.j 0.08838835+0.j\n",
            " 0.08838835+0.j 0.08838835+0.j 0.08838835+0.j 0.08838835+0.j\n",
            " 0.08838835+0.j 0.08838835+0.j 0.08838835+0.j 0.08838835+0.j\n",
            " 0.08838835+0.j 0.08838835+0.j 0.08838835+0.j 0.08838835+0.j]\n",
            "0.29659414291381836\n",
            "[0.0625+0.j 0.0625+0.j 0.0625+0.j 0.0625+0.j 0.0625+0.j 0.0625+0.j\n",
            " 0.0625+0.j 0.0625+0.j 0.0625+0.j 0.0625+0.j 0.0625+0.j 0.0625+0.j\n",
            " 0.0625+0.j 0.0625+0.j 0.0625+0.j 0.0625+0.j 0.0625+0.j 0.0625+0.j\n",
            " 0.0625+0.j 0.0625+0.j 0.0625+0.j 0.0625+0.j 0.0625+0.j 0.0625+0.j\n",
            " 0.0625+0.j 0.0625+0.j 0.0625+0.j 0.0625+0.j 0.0625+0.j 0.0625+0.j\n",
            " 0.0625+0.j 0.0625+0.j 0.0625+0.j 0.0625+0.j 0.0625+0.j 0.0625+0.j\n",
            " 0.0625+0.j 0.0625+0.j 0.0625+0.j 0.0625+0.j 0.0625+0.j 0.0625+0.j\n",
            " 0.0625+0.j 0.0625+0.j 0.0625+0.j 0.0625+0.j 0.0625+0.j 0.0625+0.j\n",
            " 0.0625+0.j 0.0625+0.j 0.0625+0.j 0.0625+0.j 0.0625+0.j 0.0625+0.j\n",
            " 0.0625+0.j 0.0625+0.j 0.0625+0.j 0.0625+0.j 0.0625+0.j 0.0625+0.j\n",
            " 0.0625+0.j 0.0625+0.j 0.0625+0.j 0.0625+0.j 0.0625+0.j 0.0625+0.j\n",
            " 0.0625+0.j 0.0625+0.j 0.0625+0.j 0.0625+0.j 0.0625+0.j 0.0625+0.j\n",
            " 0.0625+0.j 0.0625+0.j 0.0625+0.j 0.0625+0.j 0.0625+0.j 0.0625+0.j\n",
            " 0.0625+0.j 0.0625+0.j 0.0625+0.j 0.0625+0.j 0.0625+0.j 0.0625+0.j\n",
            " 0.0625+0.j 0.0625+0.j 0.0625+0.j 0.0625+0.j 0.0625+0.j 0.0625+0.j\n",
            " 0.0625+0.j 0.0625+0.j 0.0625+0.j 0.0625+0.j 0.0625+0.j 0.0625+0.j\n",
            " 0.0625+0.j 0.0625+0.j 0.0625+0.j 0.0625+0.j 0.0625+0.j 0.0625+0.j\n",
            " 0.0625+0.j 0.0625+0.j 0.0625+0.j 0.0625+0.j 0.0625+0.j 0.0625+0.j\n",
            " 0.0625+0.j 0.0625+0.j 0.0625+0.j 0.0625+0.j 0.0625+0.j 0.0625+0.j\n",
            " 0.0625+0.j 0.0625+0.j 0.0625+0.j 0.0625+0.j 0.0625+0.j 0.0625+0.j\n",
            " 0.0625+0.j 0.0625+0.j 0.0625+0.j 0.0625+0.j 0.0625+0.j 0.0625+0.j\n",
            " 0.0625+0.j 0.0625+0.j 0.0625+0.j 0.0625+0.j 0.0625+0.j 0.0625+0.j\n",
            " 0.0625+0.j 0.0625+0.j 0.0625+0.j 0.0625+0.j 0.0625+0.j 0.0625+0.j\n",
            " 0.0625+0.j 0.0625+0.j 0.0625+0.j 0.0625+0.j 0.0625+0.j 0.0625+0.j\n",
            " 0.0625+0.j 0.0625+0.j 0.0625+0.j 0.0625+0.j 0.0625+0.j 0.0625+0.j\n",
            " 0.0625+0.j 0.0625+0.j 0.0625+0.j 0.0625+0.j 0.0625+0.j 0.0625+0.j\n",
            " 0.0625+0.j 0.0625+0.j 0.0625+0.j 0.0625+0.j 0.0625+0.j 0.0625+0.j\n",
            " 0.0625+0.j 0.0625+0.j 0.0625+0.j 0.0625+0.j 0.0625+0.j 0.0625+0.j\n",
            " 0.0625+0.j 0.0625+0.j 0.0625+0.j 0.0625+0.j 0.0625+0.j 0.0625+0.j\n",
            " 0.0625+0.j 0.0625+0.j 0.0625+0.j 0.0625+0.j 0.0625+0.j 0.0625+0.j\n",
            " 0.0625+0.j 0.0625+0.j 0.0625+0.j 0.0625+0.j 0.0625+0.j 0.0625+0.j\n",
            " 0.0625+0.j 0.0625+0.j 0.0625+0.j 0.0625+0.j 0.0625+0.j 0.0625+0.j\n",
            " 0.0625+0.j 0.0625+0.j 0.0625+0.j 0.0625+0.j 0.0625+0.j 0.0625+0.j\n",
            " 0.0625+0.j 0.0625+0.j 0.0625+0.j 0.0625+0.j 0.0625+0.j 0.0625+0.j\n",
            " 0.0625+0.j 0.0625+0.j 0.0625+0.j 0.0625+0.j 0.0625+0.j 0.0625+0.j\n",
            " 0.0625+0.j 0.0625+0.j 0.0625+0.j 0.0625+0.j 0.0625+0.j 0.0625+0.j\n",
            " 0.0625+0.j 0.0625+0.j 0.0625+0.j 0.0625+0.j 0.0625+0.j 0.0625+0.j\n",
            " 0.0625+0.j 0.0625+0.j 0.0625+0.j 0.0625+0.j 0.0625+0.j 0.0625+0.j\n",
            " 0.0625+0.j 0.0625+0.j 0.0625+0.j 0.0625+0.j 0.0625+0.j 0.0625+0.j\n",
            " 0.0625+0.j 0.0625+0.j 0.0625+0.j 0.0625+0.j 0.0625+0.j 0.0625+0.j\n",
            " 0.0625+0.j 0.0625+0.j 0.0625+0.j 0.0625+0.j 0.0625+0.j 0.0625+0.j\n",
            " 0.0625+0.j 0.0625+0.j 0.0625+0.j 0.0625+0.j 0.0625+0.j 0.0625+0.j\n",
            " 0.0625+0.j 0.0625+0.j 0.0625+0.j 0.0625+0.j]\n",
            "0.5056767463684082\n",
            "[0.04419417+0.j 0.04419417+0.j 0.04419417+0.j 0.04419417+0.j\n",
            " 0.04419417+0.j 0.04419417+0.j 0.04419417+0.j 0.04419417+0.j\n",
            " 0.04419417+0.j 0.04419417+0.j 0.04419417+0.j 0.04419417+0.j\n",
            " 0.04419417+0.j 0.04419417+0.j 0.04419417+0.j 0.04419417+0.j\n",
            " 0.04419417+0.j 0.04419417+0.j 0.04419417+0.j 0.04419417+0.j\n",
            " 0.04419417+0.j 0.04419417+0.j 0.04419417+0.j 0.04419417+0.j\n",
            " 0.04419417+0.j 0.04419417+0.j 0.04419417+0.j 0.04419417+0.j\n",
            " 0.04419417+0.j 0.04419417+0.j 0.04419417+0.j 0.04419417+0.j\n",
            " 0.04419417+0.j 0.04419417+0.j 0.04419417+0.j 0.04419417+0.j\n",
            " 0.04419417+0.j 0.04419417+0.j 0.04419417+0.j 0.04419417+0.j\n",
            " 0.04419417+0.j 0.04419417+0.j 0.04419417+0.j 0.04419417+0.j\n",
            " 0.04419417+0.j 0.04419417+0.j 0.04419417+0.j 0.04419417+0.j\n",
            " 0.04419417+0.j 0.04419417+0.j 0.04419417+0.j 0.04419417+0.j\n",
            " 0.04419417+0.j 0.04419417+0.j 0.04419417+0.j 0.04419417+0.j\n",
            " 0.04419417+0.j 0.04419417+0.j 0.04419417+0.j 0.04419417+0.j\n",
            " 0.04419417+0.j 0.04419417+0.j 0.04419417+0.j 0.04419417+0.j\n",
            " 0.04419417+0.j 0.04419417+0.j 0.04419417+0.j 0.04419417+0.j\n",
            " 0.04419417+0.j 0.04419417+0.j 0.04419417+0.j 0.04419417+0.j\n",
            " 0.04419417+0.j 0.04419417+0.j 0.04419417+0.j 0.04419417+0.j\n",
            " 0.04419417+0.j 0.04419417+0.j 0.04419417+0.j 0.04419417+0.j\n",
            " 0.04419417+0.j 0.04419417+0.j 0.04419417+0.j 0.04419417+0.j\n",
            " 0.04419417+0.j 0.04419417+0.j 0.04419417+0.j 0.04419417+0.j\n",
            " 0.04419417+0.j 0.04419417+0.j 0.04419417+0.j 0.04419417+0.j\n",
            " 0.04419417+0.j 0.04419417+0.j 0.04419417+0.j 0.04419417+0.j\n",
            " 0.04419417+0.j 0.04419417+0.j 0.04419417+0.j 0.04419417+0.j\n",
            " 0.04419417+0.j 0.04419417+0.j 0.04419417+0.j 0.04419417+0.j\n",
            " 0.04419417+0.j 0.04419417+0.j 0.04419417+0.j 0.04419417+0.j\n",
            " 0.04419417+0.j 0.04419417+0.j 0.04419417+0.j 0.04419417+0.j\n",
            " 0.04419417+0.j 0.04419417+0.j 0.04419417+0.j 0.04419417+0.j\n",
            " 0.04419417+0.j 0.04419417+0.j 0.04419417+0.j 0.04419417+0.j\n",
            " 0.04419417+0.j 0.04419417+0.j 0.04419417+0.j 0.04419417+0.j\n",
            " 0.04419417+0.j 0.04419417+0.j 0.04419417+0.j 0.04419417+0.j\n",
            " 0.04419417+0.j 0.04419417+0.j 0.04419417+0.j 0.04419417+0.j\n",
            " 0.04419417+0.j 0.04419417+0.j 0.04419417+0.j 0.04419417+0.j\n",
            " 0.04419417+0.j 0.04419417+0.j 0.04419417+0.j 0.04419417+0.j\n",
            " 0.04419417+0.j 0.04419417+0.j 0.04419417+0.j 0.04419417+0.j\n",
            " 0.04419417+0.j 0.04419417+0.j 0.04419417+0.j 0.04419417+0.j\n",
            " 0.04419417+0.j 0.04419417+0.j 0.04419417+0.j 0.04419417+0.j\n",
            " 0.04419417+0.j 0.04419417+0.j 0.04419417+0.j 0.04419417+0.j\n",
            " 0.04419417+0.j 0.04419417+0.j 0.04419417+0.j 0.04419417+0.j\n",
            " 0.04419417+0.j 0.04419417+0.j 0.04419417+0.j 0.04419417+0.j\n",
            " 0.04419417+0.j 0.04419417+0.j 0.04419417+0.j 0.04419417+0.j\n",
            " 0.04419417+0.j 0.04419417+0.j 0.04419417+0.j 0.04419417+0.j\n",
            " 0.04419417+0.j 0.04419417+0.j 0.04419417+0.j 0.04419417+0.j\n",
            " 0.04419417+0.j 0.04419417+0.j 0.04419417+0.j 0.04419417+0.j\n",
            " 0.04419417+0.j 0.04419417+0.j 0.04419417+0.j 0.04419417+0.j\n",
            " 0.04419417+0.j 0.04419417+0.j 0.04419417+0.j 0.04419417+0.j\n",
            " 0.04419417+0.j 0.04419417+0.j 0.04419417+0.j 0.04419417+0.j\n",
            " 0.04419417+0.j 0.04419417+0.j 0.04419417+0.j 0.04419417+0.j\n",
            " 0.04419417+0.j 0.04419417+0.j 0.04419417+0.j 0.04419417+0.j\n",
            " 0.04419417+0.j 0.04419417+0.j 0.04419417+0.j 0.04419417+0.j\n",
            " 0.04419417+0.j 0.04419417+0.j 0.04419417+0.j 0.04419417+0.j\n",
            " 0.04419417+0.j 0.04419417+0.j 0.04419417+0.j 0.04419417+0.j\n",
            " 0.04419417+0.j 0.04419417+0.j 0.04419417+0.j 0.04419417+0.j\n",
            " 0.04419417+0.j 0.04419417+0.j 0.04419417+0.j 0.04419417+0.j\n",
            " 0.04419417+0.j 0.04419417+0.j 0.04419417+0.j 0.04419417+0.j\n",
            " 0.04419417+0.j 0.04419417+0.j 0.04419417+0.j 0.04419417+0.j\n",
            " 0.04419417+0.j 0.04419417+0.j 0.04419417+0.j 0.04419417+0.j\n",
            " 0.04419417+0.j 0.04419417+0.j 0.04419417+0.j 0.04419417+0.j\n",
            " 0.04419417+0.j 0.04419417+0.j 0.04419417+0.j 0.04419417+0.j\n",
            " 0.04419417+0.j 0.04419417+0.j 0.04419417+0.j 0.04419417+0.j\n",
            " 0.04419417+0.j 0.04419417+0.j 0.04419417+0.j 0.04419417+0.j\n",
            " 0.04419417+0.j 0.04419417+0.j 0.04419417+0.j 0.04419417+0.j\n",
            " 0.04419417+0.j 0.04419417+0.j 0.04419417+0.j 0.04419417+0.j\n",
            " 0.04419417+0.j 0.04419417+0.j 0.04419417+0.j 0.04419417+0.j\n",
            " 0.04419417+0.j 0.04419417+0.j 0.04419417+0.j 0.04419417+0.j\n",
            " 0.04419417+0.j 0.04419417+0.j 0.04419417+0.j 0.04419417+0.j\n",
            " 0.04419417+0.j 0.04419417+0.j 0.04419417+0.j 0.04419417+0.j\n",
            " 0.04419417+0.j 0.04419417+0.j 0.04419417+0.j 0.04419417+0.j\n",
            " 0.04419417+0.j 0.04419417+0.j 0.04419417+0.j 0.04419417+0.j\n",
            " 0.04419417+0.j 0.04419417+0.j 0.04419417+0.j 0.04419417+0.j\n",
            " 0.04419417+0.j 0.04419417+0.j 0.04419417+0.j 0.04419417+0.j\n",
            " 0.04419417+0.j 0.04419417+0.j 0.04419417+0.j 0.04419417+0.j\n",
            " 0.04419417+0.j 0.04419417+0.j 0.04419417+0.j 0.04419417+0.j\n",
            " 0.04419417+0.j 0.04419417+0.j 0.04419417+0.j 0.04419417+0.j\n",
            " 0.04419417+0.j 0.04419417+0.j 0.04419417+0.j 0.04419417+0.j\n",
            " 0.04419417+0.j 0.04419417+0.j 0.04419417+0.j 0.04419417+0.j\n",
            " 0.04419417+0.j 0.04419417+0.j 0.04419417+0.j 0.04419417+0.j\n",
            " 0.04419417+0.j 0.04419417+0.j 0.04419417+0.j 0.04419417+0.j\n",
            " 0.04419417+0.j 0.04419417+0.j 0.04419417+0.j 0.04419417+0.j\n",
            " 0.04419417+0.j 0.04419417+0.j 0.04419417+0.j 0.04419417+0.j\n",
            " 0.04419417+0.j 0.04419417+0.j 0.04419417+0.j 0.04419417+0.j\n",
            " 0.04419417+0.j 0.04419417+0.j 0.04419417+0.j 0.04419417+0.j\n",
            " 0.04419417+0.j 0.04419417+0.j 0.04419417+0.j 0.04419417+0.j\n",
            " 0.04419417+0.j 0.04419417+0.j 0.04419417+0.j 0.04419417+0.j\n",
            " 0.04419417+0.j 0.04419417+0.j 0.04419417+0.j 0.04419417+0.j\n",
            " 0.04419417+0.j 0.04419417+0.j 0.04419417+0.j 0.04419417+0.j\n",
            " 0.04419417+0.j 0.04419417+0.j 0.04419417+0.j 0.04419417+0.j\n",
            " 0.04419417+0.j 0.04419417+0.j 0.04419417+0.j 0.04419417+0.j\n",
            " 0.04419417+0.j 0.04419417+0.j 0.04419417+0.j 0.04419417+0.j\n",
            " 0.04419417+0.j 0.04419417+0.j 0.04419417+0.j 0.04419417+0.j\n",
            " 0.04419417+0.j 0.04419417+0.j 0.04419417+0.j 0.04419417+0.j\n",
            " 0.04419417+0.j 0.04419417+0.j 0.04419417+0.j 0.04419417+0.j\n",
            " 0.04419417+0.j 0.04419417+0.j 0.04419417+0.j 0.04419417+0.j\n",
            " 0.04419417+0.j 0.04419417+0.j 0.04419417+0.j 0.04419417+0.j\n",
            " 0.04419417+0.j 0.04419417+0.j 0.04419417+0.j 0.04419417+0.j\n",
            " 0.04419417+0.j 0.04419417+0.j 0.04419417+0.j 0.04419417+0.j\n",
            " 0.04419417+0.j 0.04419417+0.j 0.04419417+0.j 0.04419417+0.j\n",
            " 0.04419417+0.j 0.04419417+0.j 0.04419417+0.j 0.04419417+0.j\n",
            " 0.04419417+0.j 0.04419417+0.j 0.04419417+0.j 0.04419417+0.j\n",
            " 0.04419417+0.j 0.04419417+0.j 0.04419417+0.j 0.04419417+0.j\n",
            " 0.04419417+0.j 0.04419417+0.j 0.04419417+0.j 0.04419417+0.j\n",
            " 0.04419417+0.j 0.04419417+0.j 0.04419417+0.j 0.04419417+0.j\n",
            " 0.04419417+0.j 0.04419417+0.j 0.04419417+0.j 0.04419417+0.j\n",
            " 0.04419417+0.j 0.04419417+0.j 0.04419417+0.j 0.04419417+0.j\n",
            " 0.04419417+0.j 0.04419417+0.j 0.04419417+0.j 0.04419417+0.j\n",
            " 0.04419417+0.j 0.04419417+0.j 0.04419417+0.j 0.04419417+0.j\n",
            " 0.04419417+0.j 0.04419417+0.j 0.04419417+0.j 0.04419417+0.j\n",
            " 0.04419417+0.j 0.04419417+0.j 0.04419417+0.j 0.04419417+0.j\n",
            " 0.04419417+0.j 0.04419417+0.j 0.04419417+0.j 0.04419417+0.j\n",
            " 0.04419417+0.j 0.04419417+0.j 0.04419417+0.j 0.04419417+0.j\n",
            " 0.04419417+0.j 0.04419417+0.j 0.04419417+0.j 0.04419417+0.j\n",
            " 0.04419417+0.j 0.04419417+0.j 0.04419417+0.j 0.04419417+0.j\n",
            " 0.04419417+0.j 0.04419417+0.j 0.04419417+0.j 0.04419417+0.j\n",
            " 0.04419417+0.j 0.04419417+0.j 0.04419417+0.j 0.04419417+0.j\n",
            " 0.04419417+0.j 0.04419417+0.j 0.04419417+0.j 0.04419417+0.j\n",
            " 0.04419417+0.j 0.04419417+0.j 0.04419417+0.j 0.04419417+0.j\n",
            " 0.04419417+0.j 0.04419417+0.j 0.04419417+0.j 0.04419417+0.j\n",
            " 0.04419417+0.j 0.04419417+0.j 0.04419417+0.j 0.04419417+0.j\n",
            " 0.04419417+0.j 0.04419417+0.j 0.04419417+0.j 0.04419417+0.j\n",
            " 0.04419417+0.j 0.04419417+0.j 0.04419417+0.j 0.04419417+0.j\n",
            " 0.04419417+0.j 0.04419417+0.j 0.04419417+0.j 0.04419417+0.j\n",
            " 0.04419417+0.j 0.04419417+0.j 0.04419417+0.j 0.04419417+0.j\n",
            " 0.04419417+0.j 0.04419417+0.j 0.04419417+0.j 0.04419417+0.j\n",
            " 0.04419417+0.j 0.04419417+0.j 0.04419417+0.j 0.04419417+0.j\n",
            " 0.04419417+0.j 0.04419417+0.j 0.04419417+0.j 0.04419417+0.j\n",
            " 0.04419417+0.j 0.04419417+0.j 0.04419417+0.j 0.04419417+0.j\n",
            " 0.04419417+0.j 0.04419417+0.j 0.04419417+0.j 0.04419417+0.j]\n",
            "0.9727044105529785\n",
            "[0.03125+0.j 0.03125+0.j 0.03125+0.j ... 0.03125+0.j 0.03125+0.j\n",
            " 0.03125+0.j]\n",
            "done!\n"
          ],
          "name": "stdout"
        }
      ]
    },
    {
      "metadata": {
        "id": "1tduvGIsNVOp",
        "colab_type": "code",
        "outputId": "ac361912-ffea-4e04-b800-9127be1e258c",
        "colab": {
          "base_uri": "https://localhost:8080/",
          "height": 378
        }
      },
      "cell_type": "code",
      "source": [
        "import matplotlib.pyplot as plt\n",
        "\n",
        "plt.plot(qubit, exec_time_cpu, label=\"cpu\")\n",
        "plt.plot(qubit, exec_time_gpu, label=\"gpu\")\n",
        "plt.xlabel(\"number of qubits\")\n",
        "plt.ylabel(\"exection time\")\n",
        "plt.legend(fontsize=20)"
      ],
      "execution_count": 0,
      "outputs": [
        {
          "output_type": "execute_result",
          "data": {
            "text/plain": [
              "<matplotlib.legend.Legend at 0x7f0cc453dfd0>"
            ]
          },
          "metadata": {
            "tags": []
          },
          "execution_count": 23
        },
        {
          "output_type": "display_data",
          "data": {
            "image/png": "[encoded data removed]",
            "text/plain": [
              "<Figure size 576x396 with 1 Axes>"
            ]
          },
          "metadata": {
            "tags": []
          }
        }
      ]
    },
    {
      "metadata": {
        "id": "81-T_2Bhdx2V",
        "colab_type": "text"
      },
      "cell_type": "markdown",
      "source": [
        "## Acknowledgement\n",
        " Shingy : Thank you for telling me the function scipy.expm()!(twitter:@SIG_TIG)"
      ]
    },
    {
      "metadata": {
        "id": "IkLfNIX4qTVK",
        "colab_type": "text"
      },
      "cell_type": "markdown",
      "source": [
        "©️2019 Ryosuke Satoh"
      ]
    }
  ]
}